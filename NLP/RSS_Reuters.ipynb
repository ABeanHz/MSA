{
 "cells": [
  {
   "cell_type": "code",
   "execution_count": 1,
   "metadata": {},
   "outputs": [
    {
     "name": "stdout",
     "output_type": "stream",
     "text": [
      "Collecting feedparser\n",
      "  Downloading feedparser-6.0.11-py3-none-any.whl.metadata (2.4 kB)\n",
      "Requirement already satisfied: pandas in c:\\users\\agbea\\anaconda3\\envs\\timeseries\\lib\\site-packages (2.2.3)\n",
      "Collecting sgmllib3k (from feedparser)\n",
      "  Downloading sgmllib3k-1.0.0.tar.gz (5.8 kB)\n",
      "  Preparing metadata (setup.py): started\n",
      "  Preparing metadata (setup.py): finished with status 'done'\n",
      "Requirement already satisfied: numpy>=1.26.0 in c:\\users\\agbea\\anaconda3\\envs\\timeseries\\lib\\site-packages (from pandas) (2.2.1)\n",
      "Requirement already satisfied: python-dateutil>=2.8.2 in c:\\users\\agbea\\anaconda3\\envs\\timeseries\\lib\\site-packages (from pandas) (2.9.0.post0)\n",
      "Requirement already satisfied: pytz>=2020.1 in c:\\users\\agbea\\anaconda3\\envs\\timeseries\\lib\\site-packages (from pandas) (2024.2)\n",
      "Requirement already satisfied: tzdata>=2022.7 in c:\\users\\agbea\\anaconda3\\envs\\timeseries\\lib\\site-packages (from pandas) (2024.2)\n",
      "Requirement already satisfied: six>=1.5 in c:\\users\\agbea\\anaconda3\\envs\\timeseries\\lib\\site-packages (from python-dateutil>=2.8.2->pandas) (1.17.0)\n",
      "Downloading feedparser-6.0.11-py3-none-any.whl (81 kB)\n",
      "Building wheels for collected packages: sgmllib3k\n",
      "  Building wheel for sgmllib3k (setup.py): started\n",
      "  Building wheel for sgmllib3k (setup.py): finished with status 'done'\n",
      "  Created wheel for sgmllib3k: filename=sgmllib3k-1.0.0-py3-none-any.whl size=6060 sha256=3a3be1c48f760d020c7dc43efa25490e59c2949f6db3cae2db53d9397327c672\n",
      "  Stored in directory: c:\\users\\agbea\\appdata\\local\\pip\\cache\\wheels\\03\\f5\\1a\\23761066dac1d0e8e683e5fdb27e12de53209d05a4a37e6246\n",
      "Successfully built sgmllib3k\n",
      "Installing collected packages: sgmllib3k, feedparser\n",
      "Successfully installed feedparser-6.0.11 sgmllib3k-1.0.0\n"
     ]
    }
   ],
   "source": [
    "!pip install feedparser pandas\n"
   ]
  },
  {
   "cell_type": "code",
   "execution_count": 2,
   "metadata": {},
   "outputs": [],
   "source": [
    "import feedparser\n",
    "import pandas as pd\n"
   ]
  },
  {
   "cell_type": "code",
   "execution_count": 27,
   "metadata": {},
   "outputs": [],
   "source": [
    "rss_url = \"https://www.reutersagency.com/feed/?taxonomy=best-topics&post_type=best\"  # Replace with desired RSS URL\n"
   ]
  },
  {
   "cell_type": "code",
   "execution_count": 28,
   "metadata": {},
   "outputs": [
    {
     "name": "stdout",
     "output_type": "stream",
     "text": [
      "{'bozo': False, 'entries': [{'title': 'How bond vigilantes could check Trump’s power', 'title_detail': {'type': 'text/plain', 'language': None, 'base': '', 'value': 'How bond vigilantes could check Trump’s power'}, 'links': [{'rel': 'alternate', 'type': 'text/html', 'href': 'https://www.reutersagency.com/en/reutersbest/article/how-bond-vigilantes-could-check-trumps-power/'}], 'link': 'https://www.reutersagency.com/en/reutersbest/article/how-bond-vigilantes-could-check-trumps-power/', 'authors': [{'name': 'Aditi Tiwari'}], 'author': 'Aditi Tiwari', 'author_detail': {'name': 'Aditi Tiwari'}, 'published': 'Thu, 16 Jan 2025 14:21:08 +0000', 'published_parsed': time.struct_time(tm_year=2025, tm_mon=1, tm_mday=16, tm_hour=14, tm_min=21, tm_sec=8, tm_wday=3, tm_yday=16, tm_isdst=0), 'id': 'https://www.reutersagency.com/en/?post_type=best&p=315773', 'guidislink': False, 'summary': '<p>As Donald Trump takes office on January 20, concerns over ‘bond vigilantes’ in the United States have resurfaced\\xa0 Like Bill&#160;Clinton [&#8230;]</p>\\n<p>The post <a href=\"https://www.reutersagency.com/en/reutersbest/article/how-bond-vigilantes-could-check-trumps-power/\">How bond vigilantes could check Trump&#8217;s power\\xa0</a> appeared first on <a href=\"https://www.reutersagency.com/en/\">Reuters News Agency</a>.</p>', 'summary_detail': {'type': 'text/html', 'language': None, 'base': '', 'value': '<p>As Donald Trump takes office on January 20, concerns over ‘bond vigilantes’ in the United States have resurfaced\\xa0 Like Bill&#160;Clinton [&#8230;]</p>\\n<p>The post <a href=\"https://www.reutersagency.com/en/reutersbest/article/how-bond-vigilantes-could-check-trumps-power/\">How bond vigilantes could check Trump&#8217;s power\\xa0</a> appeared first on <a href=\"https://www.reutersagency.com/en/\">Reuters News Agency</a>.</p>'}, 'content': [{'type': 'text/html', 'language': None, 'base': '', 'value': '<p>As Donald Trump takes office on January 20, concerns over <strong><a href=\"https://www.reuters.com/markets/rates-bonds/how-bond-vigilantes-could-check-trumps-power-2025-01-16/\">‘bond vigilantes’</a></strong> in the United States have resurfaced\\xa0</p>\\n\\n\\n\\n<p>Like Bill&nbsp;Clinton before him, Trump now faces the prospect of ‘bond vigilantes’ – so-called because they punish governments&#8217; profligacy&nbsp;&#8211; becoming a potent check on his policy agenda.&nbsp;</p>\\n<p>The post <a href=\"https://www.reutersagency.com/en/reutersbest/article/how-bond-vigilantes-could-check-trumps-power/\">How bond vigilantes could check Trump&#8217;s power\\xa0</a> appeared first on <a href=\"https://www.reutersagency.com/en/\">Reuters News Agency</a>.</p>'}]}, {'title': 'Meta warns India antitrust ruling could force roll back of features, hurt business', 'title_detail': {'type': 'text/plain', 'language': None, 'base': '', 'value': 'Meta warns India antitrust ruling could force roll back of features, hurt business'}, 'links': [{'rel': 'alternate', 'type': 'text/html', 'href': 'https://www.reutersagency.com/en/reutersbest/article/meta-warns-india-antitrust-ruling-could-force-roll-back-of-features-hurt-business/'}], 'link': 'https://www.reutersagency.com/en/reutersbest/article/meta-warns-india-antitrust-ruling-could-force-roll-back-of-features-hurt-business/', 'authors': [{'name': 'Aditi Tiwari'}], 'author': 'Aditi Tiwari', 'author_detail': {'name': 'Aditi Tiwari'}, 'published': 'Wed, 15 Jan 2025 14:03:16 +0000', 'published_parsed': time.struct_time(tm_year=2025, tm_mon=1, tm_mday=15, tm_hour=14, tm_min=3, tm_sec=16, tm_wday=2, tm_yday=15, tm_isdst=0), 'id': 'https://www.reutersagency.com/en/?post_type=best&p=315725', 'guidislink': False, 'summary': '<p>Reuters was first to report that Meta has warned it may have to &#8220;roll back or pause&#8221; some features in [&#8230;]</p>\\n<p>The post <a href=\"https://www.reutersagency.com/en/reutersbest/article/meta-warns-india-antitrust-ruling-could-force-roll-back-of-features-hurt-business/\">Meta warns India antitrust ruling could force roll back of features, hurt business\\xa0</a> appeared first on <a href=\"https://www.reutersagency.com/en/\">Reuters News Agency</a>.</p>', 'summary_detail': {'type': 'text/html', 'language': None, 'base': '', 'value': '<p>Reuters was first to report that Meta has warned it may have to &#8220;roll back or pause&#8221; some features in [&#8230;]</p>\\n<p>The post <a href=\"https://www.reutersagency.com/en/reutersbest/article/meta-warns-india-antitrust-ruling-could-force-roll-back-of-features-hurt-business/\">Meta warns India antitrust ruling could force roll back of features, hurt business\\xa0</a> appeared first on <a href=\"https://www.reutersagency.com/en/\">Reuters News Agency</a>.</p>'}, 'content': [{'type': 'text/html', 'language': None, 'base': '', 'value': '<p>Reuters was <strong><a href=\"https://www.reuters.com/technology/meta-warns-india-antitrust-ruling-could-force-roll-back-features-hurt-business-2025-01-15/\">first to report</a></strong> that Meta has warned it may have to &#8220;roll back or pause&#8221; some features in India due to an antitrust directive which banned WhatsApp from sharing user data for advertising purposes. A non-public court filing seen by Reuters detailed how unnerved Meta is with the antitrust ruling, and also revealed how Meta has taken a critical position on the functioning of the watchdog by saying it doesn’t “have the necessary technical expertise and knowledge” to understand its own decision.\\xa0</p>\\n\\n\\n\\n<p><strong><em>Why it matters\\xa0</em></strong></p>\\n\\n\\n\\n<p>Pausing Meta features in India could be significant for the U.S. company given the country’s significance.&nbsp;India is the biggest market for Meta where it has more than 350 million Facebook users and over 500 million people using WhatsApp.&nbsp;</p>\\n<p>The post <a href=\"https://www.reutersagency.com/en/reutersbest/article/meta-warns-india-antitrust-ruling-could-force-roll-back-of-features-hurt-business/\">Meta warns India antitrust ruling could force roll back of features, hurt business\\xa0</a> appeared first on <a href=\"https://www.reutersagency.com/en/\">Reuters News Agency</a>.</p>'}]}, {'title': 'Lilly shares on track for worst day since 2021 after downbeat Zepbound sales forecast', 'title_detail': {'type': 'text/plain', 'language': None, 'base': '', 'value': 'Lilly shares on track for worst day since 2021 after downbeat Zepbound sales forecast'}, 'links': [{'rel': 'alternate', 'type': 'text/html', 'href': 'https://www.reutersagency.com/en/reutersbest/article/lilly-shares-on-track-for-worst-day-since-2021-after-downbeat-zepbound-sales-forecast/'}], 'link': 'https://www.reutersagency.com/en/reutersbest/article/lilly-shares-on-track-for-worst-day-since-2021-after-downbeat-zepbound-sales-forecast/', 'authors': [{'name': 'Aditi Tiwari'}], 'author': 'Aditi Tiwari', 'author_detail': {'name': 'Aditi Tiwari'}, 'published': 'Tue, 14 Jan 2025 14:12:37 +0000', 'published_parsed': time.struct_time(tm_year=2025, tm_mon=1, tm_mday=14, tm_hour=14, tm_min=12, tm_sec=37, tm_wday=1, tm_yday=14, tm_isdst=0), 'id': 'https://www.reutersagency.com/en/?post_type=best&p=315749', 'guidislink': False, 'summary': '<p>Reuters was two-and-a-half minutes ahead of rivals on Eli Lilly’s unscheduled trading update, which showed fourth-quarter sales of its weight-loss [&#8230;]</p>\\n<p>The post <a href=\"https://www.reutersagency.com/en/reutersbest/article/lilly-shares-on-track-for-worst-day-since-2021-after-downbeat-zepbound-sales-forecast/\">Lilly shares on track for worst day since 2021 after downbeat Zepbound sales forecast\\xa0</a> appeared first on <a href=\"https://www.reutersagency.com/en/\">Reuters News Agency</a>.</p>', 'summary_detail': {'type': 'text/html', 'language': None, 'base': '', 'value': '<p>Reuters was two-and-a-half minutes ahead of rivals on Eli Lilly’s unscheduled trading update, which showed fourth-quarter sales of its weight-loss [&#8230;]</p>\\n<p>The post <a href=\"https://www.reutersagency.com/en/reutersbest/article/lilly-shares-on-track-for-worst-day-since-2021-after-downbeat-zepbound-sales-forecast/\">Lilly shares on track for worst day since 2021 after downbeat Zepbound sales forecast\\xa0</a> appeared first on <a href=\"https://www.reutersagency.com/en/\">Reuters News Agency</a>.</p>'}, 'content': [{'type': 'text/html', 'language': None, 'base': '', 'value': '<p><strong><a href=\"https://www.reuters.com/business/healthcare-pharmaceuticals/lilly-forecasts-weak-sales-weight-loss-drug-fourth-quarter-2025-01-14/\">Reuters was two-and-a-half minutes ahead</a></strong> of rivals on Eli Lilly’s unscheduled trading update, which showed fourth-quarter sales of its weight-loss drug Zepbound would miss Wall Street estimates. The drugmaker’s shares slumped 8% on the news.\\xa0</p>\\n<p>The post <a href=\"https://www.reutersagency.com/en/reutersbest/article/lilly-shares-on-track-for-worst-day-since-2021-after-downbeat-zepbound-sales-forecast/\">Lilly shares on track for worst day since 2021 after downbeat Zepbound sales forecast\\xa0</a> appeared first on <a href=\"https://www.reutersagency.com/en/\">Reuters News Agency</a>.</p>'}]}, {'title': 'Barrick to suspend operations in Mali after gold seized', 'title_detail': {'type': 'text/plain', 'language': None, 'base': '', 'value': 'Barrick to suspend operations in Mali after gold seized'}, 'links': [{'rel': 'alternate', 'type': 'text/html', 'href': 'https://www.reutersagency.com/en/reutersbest/article/barrick-to-suspend-operations-in-mali-after-gold-seized/'}], 'link': 'https://www.reutersagency.com/en/reutersbest/article/barrick-to-suspend-operations-in-mali-after-gold-seized/', 'authors': [{'name': 'Aditi Tiwari'}], 'author': 'Aditi Tiwari', 'author_detail': {'name': 'Aditi Tiwari'}, 'published': 'Mon, 13 Jan 2025 14:07:08 +0000', 'published_parsed': time.struct_time(tm_year=2025, tm_mon=1, tm_mday=13, tm_hour=14, tm_min=7, tm_sec=8, tm_wday=0, tm_yday=13, tm_isdst=0), 'id': 'https://www.reutersagency.com/en/?post_type=best&p=315737', 'guidislink': False, 'summary': '<p>Reuters was first to report that Malian authorities had seized around 3 tons of gold from a mining complex owned [&#8230;]</p>\\n<p>The post <a href=\"https://www.reutersagency.com/en/reutersbest/article/barrick-to-suspend-operations-in-mali-after-gold-seized/\">Barrick to suspend operations in Mali after gold seized\\xa0</a> appeared first on <a href=\"https://www.reutersagency.com/en/\">Reuters News Agency</a>.</p>', 'summary_detail': {'type': 'text/html', 'language': None, 'base': '', 'value': '<p>Reuters was first to report that Malian authorities had seized around 3 tons of gold from a mining complex owned [&#8230;]</p>\\n<p>The post <a href=\"https://www.reutersagency.com/en/reutersbest/article/barrick-to-suspend-operations-in-mali-after-gold-seized/\">Barrick to suspend operations in Mali after gold seized\\xa0</a> appeared first on <a href=\"https://www.reutersagency.com/en/\">Reuters News Agency</a>.</p>'}, 'content': [{'type': 'text/html', 'language': None, 'base': '', 'value': '<p>Reuters was <strong><a href=\"https://www.reuters.com/markets/commodities/mali-started-flying-gold-stocks-out-barrick-site-saturday-sources-say-2025-01-13/\">first to report</a></strong> that Malian authorities had seized around 3 tons of gold from a mining complex owned by Canadian miner Barrick Gold in the west of the country, taking the precious metal away by helicopter, as a long-running dispute between the military regime and the world’s second biggest gold producer over its mining contract escalated. Barrick’s shares fell 1.9% on the Toronto Stock Exchange after the story was published.\\xa0</p>\\n\\n\\n\\n<p><strong><em>Why it matters\\xa0</em></strong></p>\\n\\n\\n\\n<p>The seizure, which led Barrick to announce that it would suspend operations in Mali, is part of a wider standoff between West African military governments seeking a bigger share of mining revenues and global mining companies which have invested billions of dollars in the region and now face a new set of game rules. It could also deter further foreign investments, given the unpredictability of the West African juntas.&nbsp;</p>\\n<p>The post <a href=\"https://www.reutersagency.com/en/reutersbest/article/barrick-to-suspend-operations-in-mali-after-gold-seized/\">Barrick to suspend operations in Mali after gold seized\\xa0</a> appeared first on <a href=\"https://www.reutersagency.com/en/\">Reuters News Agency</a>.</p>'}]}, {'title': 'Berlin considers full Uniper exit, targets deal after summer', 'title_detail': {'type': 'text/plain', 'language': None, 'base': '', 'value': 'Berlin considers full Uniper exit, targets deal after summer'}, 'links': [{'rel': 'alternate', 'type': 'text/html', 'href': 'https://www.reutersagency.com/en/reutersbest/article/berlin-considers-full-uniper-exit-targets-deal-after-summer/'}], 'link': 'https://www.reutersagency.com/en/reutersbest/article/berlin-considers-full-uniper-exit-targets-deal-after-summer/', 'authors': [{'name': 'Aditi Tiwari'}], 'author': 'Aditi Tiwari', 'author_detail': {'name': 'Aditi Tiwari'}, 'published': 'Mon, 13 Jan 2025 13:47:47 +0000', 'published_parsed': time.struct_time(tm_year=2025, tm_mon=1, tm_mday=13, tm_hour=13, tm_min=47, tm_sec=47, tm_wday=0, tm_yday=13, tm_isdst=0), 'id': 'https://www.reutersagency.com/en/?post_type=best&p=315689', 'guidislink': False, 'summary': '<p>Reuters exclusively reported that the German government is weighing selling its entire 99% holding of German utility Uniper, which has [&#8230;]</p>\\n<p>The post <a href=\"https://www.reutersagency.com/en/reutersbest/article/berlin-considers-full-uniper-exit-targets-deal-after-summer/\">Berlin considers full Uniper exit, targets deal after summer</a> appeared first on <a href=\"https://www.reutersagency.com/en/\">Reuters News Agency</a>.</p>', 'summary_detail': {'type': 'text/html', 'language': None, 'base': '', 'value': '<p>Reuters exclusively reported that the German government is weighing selling its entire 99% holding of German utility Uniper, which has [&#8230;]</p>\\n<p>The post <a href=\"https://www.reutersagency.com/en/reutersbest/article/berlin-considers-full-uniper-exit-targets-deal-after-summer/\">Berlin considers full Uniper exit, targets deal after summer</a> appeared first on <a href=\"https://www.reutersagency.com/en/\">Reuters News Agency</a>.</p>'}, 'content': [{'type': 'text/html', 'language': None, 'base': '', 'value': '<p>Reuters <strong><a href=\"https://www.reuters.com/markets/deals/berlin-considers-full-uniper-exit-targets-deal-after-summer-sources-say-2025-01-13/\">exclusively reported</a></strong> that the German government is weighing selling its entire 99% holding of German utility Uniper, which has a market capitalisation of nearly $19 billion. The government had flagged previously only a minority exit on the public markets. Reuters was also first to reveal that the government had reached out to potential buyers to discuss a full sale, including Canadian fund Brookfield. A full sale to a private equity fund would be one of Europe&#8217;s biggest in recent years. \\xa0</p>\\n\\n\\n\\n<p><strong><em>Why it matters</em></strong></p>\\n\\n\\n\\n<p>Uniper nearly collapsed after its former main gas supplier, Russia&#8217;s Gazprom, first curbed and later stopped deliveries after the outbreak of the Ukraine war, forcing the German government to step in to ensure energy security in Europe&#8217;s biggest economy.\\xa0</p>\\n<p>The post <a href=\"https://www.reutersagency.com/en/reutersbest/article/berlin-considers-full-uniper-exit-targets-deal-after-summer/\">Berlin considers full Uniper exit, targets deal after summer</a> appeared first on <a href=\"https://www.reutersagency.com/en/\">Reuters News Agency</a>.</p>'}]}, {'title': 'US lobbied Greenland rare earths developer Tanbreez not to sell to China', 'title_detail': {'type': 'text/plain', 'language': None, 'base': '', 'value': 'US lobbied Greenland rare earths developer Tanbreez not to sell to China'}, 'links': [{'rel': 'alternate', 'type': 'text/html', 'href': 'https://www.reutersagency.com/en/reutersbest/article/us-lobbied-greenland-rare-earths-developer-tanbreez-not-to-sell-to-china/'}], 'link': 'https://www.reutersagency.com/en/reutersbest/article/us-lobbied-greenland-rare-earths-developer-tanbreez-not-to-sell-to-china/', 'authors': [{'name': 'Aditi Tiwari'}], 'author': 'Aditi Tiwari', 'author_detail': {'name': 'Aditi Tiwari'}, 'published': 'Thu, 09 Jan 2025 14:16:22 +0000', 'published_parsed': time.struct_time(tm_year=2025, tm_mon=1, tm_mday=9, tm_hour=14, tm_min=16, tm_sec=22, tm_wday=3, tm_yday=9, tm_isdst=0), 'id': 'https://www.reutersagency.com/en/?post_type=best&p=315761', 'guidislink': False, 'summary': '<p>Reuters was first to report that US and Danish officials lobbied the developer of Greenland&#8217;s largest rare earths deposit not [&#8230;]</p>\\n<p>The post <a href=\"https://www.reutersagency.com/en/reutersbest/article/us-lobbied-greenland-rare-earths-developer-tanbreez-not-to-sell-to-china/\">US lobbied Greenland rare earths developer Tanbreez not to sell to China\\xa0</a> appeared first on <a href=\"https://www.reutersagency.com/en/\">Reuters News Agency</a>.</p>', 'summary_detail': {'type': 'text/html', 'language': None, 'base': '', 'value': '<p>Reuters was first to report that US and Danish officials lobbied the developer of Greenland&#8217;s largest rare earths deposit not [&#8230;]</p>\\n<p>The post <a href=\"https://www.reutersagency.com/en/reutersbest/article/us-lobbied-greenland-rare-earths-developer-tanbreez-not-to-sell-to-china/\">US lobbied Greenland rare earths developer Tanbreez not to sell to China\\xa0</a> appeared first on <a href=\"https://www.reutersagency.com/en/\">Reuters News Agency</a>.</p>'}, 'content': [{'type': 'text/html', 'language': None, 'base': '', 'value': '<p><strong><a href=\"https://www.reuters.com/markets/commodities/us-lobbied-greenland-rare-earths-developer-tanbreez-not-sell-china-2025-01-09/\">Reuters was first to report</a></strong> that US and Danish officials lobbied the developer of Greenland&#8217;s largest rare earths deposit not to sell its project to Chinese-linked firms. The CEO of Tanbreez Mining, speaking exclusively to Reuters, said the company had been in regular contact with Washington as it reviews funding options to develop the Island&#8217;s critical minerals.\\xa0\\xa0</p>\\n\\n\\n\\n<p>The move underscores the long-running economic interest U.S. officials have had in the Danish territory, well before U.S. President-elect Donald Trump began musing in recent weeks about acquiring it.\\xa0</p>\\n\\n\\n\\n<p>The Reuters story was picked up widely by other outlets, while shares in US-based Critical Metals &#8211; in the process of buying a controlling stake in Tanbreez &#8211; rose almost 14 percent the following day in early trade.&nbsp;</p>\\n<p>The post <a href=\"https://www.reutersagency.com/en/reutersbest/article/us-lobbied-greenland-rare-earths-developer-tanbreez-not-to-sell-to-china/\">US lobbied Greenland rare earths developer Tanbreez not to sell to China\\xa0</a> appeared first on <a href=\"https://www.reutersagency.com/en/\">Reuters News Agency</a>.</p>'}]}, {'title': 'Device maker Stryker strikes $4.9 billion deal for Inari Medical', 'title_detail': {'type': 'text/plain', 'language': None, 'base': '', 'value': 'Device maker Stryker strikes $4.9 billion deal for Inari Medical'}, 'links': [{'rel': 'alternate', 'type': 'text/html', 'href': 'https://www.reutersagency.com/en/reutersbest/article/device-maker-stryker-strikes-4-9-billion-deal-for-inari-medical/'}], 'link': 'https://www.reutersagency.com/en/reutersbest/article/device-maker-stryker-strikes-4-9-billion-deal-for-inari-medical/', 'authors': [{'name': 'Aditi Tiwari'}], 'author': 'Aditi Tiwari', 'author_detail': {'name': 'Aditi Tiwari'}, 'published': 'Mon, 06 Jan 2025 13:59:09 +0000', 'published_parsed': time.struct_time(tm_year=2025, tm_mon=1, tm_mday=6, tm_hour=13, tm_min=59, tm_sec=9, tm_wday=0, tm_yday=6, tm_isdst=0), 'id': 'https://www.reutersagency.com/en/?post_type=best&p=315713', 'guidislink': False, 'summary': '<p>Shares of medical device maker Inari Medical surged nearly 30% after Reuters revealed that medical technology giant Stryker was in [&#8230;]</p>\\n<p>The post <a href=\"https://www.reutersagency.com/en/reutersbest/article/device-maker-stryker-strikes-4-9-billion-deal-for-inari-medical/\">Device maker Stryker strikes $4.9 billion deal for Inari Medical\\xa0</a> appeared first on <a href=\"https://www.reutersagency.com/en/\">Reuters News Agency</a>.</p>', 'summary_detail': {'type': 'text/html', 'language': None, 'base': '', 'value': '<p>Shares of medical device maker Inari Medical surged nearly 30% after Reuters revealed that medical technology giant Stryker was in [&#8230;]</p>\\n<p>The post <a href=\"https://www.reutersagency.com/en/reutersbest/article/device-maker-stryker-strikes-4-9-billion-deal-for-inari-medical/\">Device maker Stryker strikes $4.9 billion deal for Inari Medical\\xa0</a> appeared first on <a href=\"https://www.reutersagency.com/en/\">Reuters News Agency</a>.</p>'}, 'content': [{'type': 'text/html', 'language': None, 'base': '', 'value': '<p>Shares of medical device maker Inari Medical surged nearly 30% after <strong><a href=\"https://www.reuters.com/business/healthcare-pharmaceuticals/medical-device-maker-stryker-nearing-deal-buy-inari-medical-sources-say-2025-01-06/\">Reuters revealed</a></strong> that medical technology giant Stryker was in advanced talks to acquire it. The deal was later confirmed by both companies.\\xa0</p>\\n<p>The post <a href=\"https://www.reutersagency.com/en/reutersbest/article/device-maker-stryker-strikes-4-9-billion-deal-for-inari-medical/\">Device maker Stryker strikes $4.9 billion deal for Inari Medical\\xa0</a> appeared first on <a href=\"https://www.reutersagency.com/en/\">Reuters News Agency</a>.</p>'}]}, {'title': 'Fed’s Barr to resign early from regulatory job to avoid legal fight with Trump', 'title_detail': {'type': 'text/plain', 'language': None, 'base': '', 'value': 'Fed’s Barr to resign early from regulatory job to avoid legal fight with Trump'}, 'links': [{'rel': 'alternate', 'type': 'text/html', 'href': 'https://www.reutersagency.com/en/reutersbest/article/feds-barr-to-resign-early-from-regulatory-job-to-avoid-legal-fight-with-trump/'}], 'link': 'https://www.reutersagency.com/en/reutersbest/article/feds-barr-to-resign-early-from-regulatory-job-to-avoid-legal-fight-with-trump/', 'authors': [{'name': 'Aditi Tiwari'}], 'author': 'Aditi Tiwari', 'author_detail': {'name': 'Aditi Tiwari'}, 'published': 'Mon, 06 Jan 2025 13:34:47 +0000', 'published_parsed': time.struct_time(tm_year=2025, tm_mon=1, tm_mday=6, tm_hour=13, tm_min=34, tm_sec=47, tm_wday=0, tm_yday=6, tm_isdst=0), 'id': 'https://www.reutersagency.com/en/?post_type=best&p=315665', 'guidislink': False, 'summary': '<p>Federal Reserve Vice Chair for Supervision Michael Barr confirmed an exclusive Dec. 23 Reuters report that he had sought legal [&#8230;]</p>\\n<p>The post <a href=\"https://www.reutersagency.com/en/reutersbest/article/feds-barr-to-resign-early-from-regulatory-job-to-avoid-legal-fight-with-trump/\">Fed&#8217;s Barr to resign early from regulatory job to avoid legal fight with Trump</a> appeared first on <a href=\"https://www.reutersagency.com/en/\">Reuters News Agency</a>.</p>', 'summary_detail': {'type': 'text/html', 'language': None, 'base': '', 'value': '<p>Federal Reserve Vice Chair for Supervision Michael Barr confirmed an exclusive Dec. 23 Reuters report that he had sought legal [&#8230;]</p>\\n<p>The post <a href=\"https://www.reutersagency.com/en/reutersbest/article/feds-barr-to-resign-early-from-regulatory-job-to-avoid-legal-fight-with-trump/\">Fed&#8217;s Barr to resign early from regulatory job to avoid legal fight with Trump</a> appeared first on <a href=\"https://www.reutersagency.com/en/\">Reuters News Agency</a>.</p>'}, 'content': [{'type': 'text/html', 'language': None, 'base': '', 'value': '<p>Federal Reserve Vice Chair for Supervision Michael Barr confirmed an <strong><a href=\"https://www.reuters.com/world/us/feds-barr-resign-early-regulatory-post-2025-01-06/\">exclusive Dec. 23 Reuters report</a></strong> that he had sought legal advice from law firm Arnold &amp; Porter on how to handle a potential attempt by Donald Trump’s incoming administration to fire him – a potentially unprecedented move that could have sparked a messy legal test of the Fed’s independence. Barr on Monday told Reuters that after seeking legal counsel he had decided to step down in order to avert that potential confrontation which would have been a “serious distraction.”\\xa0</p>\\n\\n\\n\\n<p><strong><em>Why it matters\\xa0</em></strong></p>\\n\\n\\n\\n<p>Barr’s early exit clears the way for Trump, who will be sworn in on Jan. 20, to appoint an entirely fresh slate of banking regulators and begin work on a more industry-friendly agenda, although Barr&#8217;s decision to remain as a governor limits Trump&#8217;s immediate options.\\xa0</p>\\n<p>The post <a href=\"https://www.reutersagency.com/en/reutersbest/article/feds-barr-to-resign-early-from-regulatory-job-to-avoid-legal-fight-with-trump/\">Fed&#8217;s Barr to resign early from regulatory job to avoid legal fight with Trump</a> appeared first on <a href=\"https://www.reutersagency.com/en/\">Reuters News Agency</a>.</p>'}]}, {'title': 'KKR and Bain each bid more than $5 bln for Seven & i assets, sources say', 'title_detail': {'type': 'text/plain', 'language': None, 'base': '', 'value': 'KKR and Bain each bid more than $5 bln for Seven & i assets, sources say'}, 'links': [{'rel': 'alternate', 'type': 'text/html', 'href': 'https://www.reutersagency.com/en/reutersbest/article/kkr-and-bain-each-bid-more-than-5-bln-for-seven-i-assets-sources-say/'}], 'link': 'https://www.reutersagency.com/en/reutersbest/article/kkr-and-bain-each-bid-more-than-5-bln-for-seven-i-assets-sources-say/', 'authors': [{'name': 'Aditi Tiwari'}], 'author': 'Aditi Tiwari', 'author_detail': {'name': 'Aditi Tiwari'}, 'published': 'Wed, 25 Dec 2024 13:41:40 +0000', 'published_parsed': time.struct_time(tm_year=2024, tm_mon=12, tm_mday=25, tm_hour=13, tm_min=41, tm_sec=40, tm_wday=2, tm_yday=360, tm_isdst=0), 'id': 'https://www.reutersagency.com/en/?post_type=best&p=315677', 'guidislink': False, 'summary': '<p>Reuters exclusively reported that private equity firms KKR and Bain Capital each offered more than $5 billion in first-round bids [&#8230;]</p>\\n<p>The post <a href=\"https://www.reutersagency.com/en/reutersbest/article/kkr-and-bain-each-bid-more-than-5-bln-for-seven-i-assets-sources-say/\">KKR and Bain each bid more than $5 bln for Seven &amp; i assets, sources say</a> appeared first on <a href=\"https://www.reutersagency.com/en/\">Reuters News Agency</a>.</p>', 'summary_detail': {'type': 'text/html', 'language': None, 'base': '', 'value': '<p>Reuters exclusively reported that private equity firms KKR and Bain Capital each offered more than $5 billion in first-round bids [&#8230;]</p>\\n<p>The post <a href=\"https://www.reutersagency.com/en/reutersbest/article/kkr-and-bain-each-bid-more-than-5-bln-for-seven-i-assets-sources-say/\">KKR and Bain each bid more than $5 bln for Seven &amp; i assets, sources say</a> appeared first on <a href=\"https://www.reutersagency.com/en/\">Reuters News Agency</a>.</p>'}, 'content': [{'type': 'text/html', 'language': None, 'base': '', 'value': '<p>Reuters <strong><a href=\"https://www.reuters.com/markets/deals/kkr-bain-bids-ranged-48-bln-76-bln-seven-i-assets-sources-say-2024-12-25/\">exclusively reported</a></strong> that private equity firms KKR and Bain Capital each offered more than $5 billion in first-round bids for the non-core assets of Japan&#8217;s Seven &amp; i Holdings, according to people familiar with the matter.\\xa0</p>\\n\\n\\n\\n<p>KKR offered around 800 billion yen ($5.1 billion) for York Holdings, an entity due to be spun out of the Japanese retailer, two of the people said. Rival U.S. firm Bain offered around 1.2 trillion yen, one person said. Local buyout firm Japan Industrial Partners offered around 750 billion yen, one said.&nbsp;</p>\\n\\n\\n\\n<p><strong><em>Why it matters\\xa0</em></strong></p>\\n\\n\\n\\n<p>Seven &amp; i is looking to hive off non-core businesses, including its sprawling supermarket operations. Separately, the retailer&#8217;s founding family is in talks to take Seven &amp; i private. That deal, a management buyout, is designed to fend off a $47 billion takeover offer from Canada&#8217;s Alimentation Couche-Tard. The privatisation, if realised, would be the largest ever of a Japanese firm.&nbsp;</p>\\n<p>The post <a href=\"https://www.reutersagency.com/en/reutersbest/article/kkr-and-bain-each-bid-more-than-5-bln-for-seven-i-assets-sources-say/\">KKR and Bain each bid more than $5 bln for Seven &amp; i assets, sources say</a> appeared first on <a href=\"https://www.reutersagency.com/en/\">Reuters News Agency</a>.</p>'}]}, {'title': 'Nordstrom family will take retailer private in $4 bln deal', 'title_detail': {'type': 'text/plain', 'language': None, 'base': '', 'value': 'Nordstrom family will take retailer private in $4 bln deal'}, 'links': [{'rel': 'alternate', 'type': 'text/html', 'href': 'https://www.reutersagency.com/en/reutersbest/article/nordstrom-family-will-take-retailer-private-in-4-bln-deal/'}], 'link': 'https://www.reutersagency.com/en/reutersbest/article/nordstrom-family-will-take-retailer-private-in-4-bln-deal/', 'authors': [{'name': 'Aditi Tiwari'}], 'author': 'Aditi Tiwari', 'author_detail': {'name': 'Aditi Tiwari'}, 'published': 'Mon, 23 Dec 2024 13:53:50 +0000', 'published_parsed': time.struct_time(tm_year=2024, tm_mon=12, tm_mday=23, tm_hour=13, tm_min=53, tm_sec=50, tm_wday=0, tm_yday=358, tm_isdst=0), 'id': 'https://www.reutersagency.com/en/?post_type=best&p=315701', 'guidislink': False, 'summary': '<p>Reuters was more than a minute ahead in reporting that Nordstrom would be acquired by its founding family and Mexican [&#8230;]</p>\\n<p>The post <a href=\"https://www.reutersagency.com/en/reutersbest/article/nordstrom-family-will-take-retailer-private-in-4-bln-deal/\">Nordstrom family will take retailer private in $4 bln deal\\xa0</a> appeared first on <a href=\"https://www.reutersagency.com/en/\">Reuters News Agency</a>.</p>', 'summary_detail': {'type': 'text/html', 'language': None, 'base': '', 'value': '<p>Reuters was more than a minute ahead in reporting that Nordstrom would be acquired by its founding family and Mexican [&#8230;]</p>\\n<p>The post <a href=\"https://www.reutersagency.com/en/reutersbest/article/nordstrom-family-will-take-retailer-private-in-4-bln-deal/\">Nordstrom family will take retailer private in $4 bln deal\\xa0</a> appeared first on <a href=\"https://www.reutersagency.com/en/\">Reuters News Agency</a>.</p>'}, 'content': [{'type': 'text/html', 'language': None, 'base': '', 'value': '<p><strong><a href=\"https://www.reuters.com/markets/deals/nordstrom-agrees-625-bln-buyout-deal-founding-family-2024-12-23/\">Reuters was more than a minute ahead</a></strong> in reporting that Nordstrom would be acquired by its founding family and Mexican retailer El Puerto de Liverpool in a deal with an enterprise value of $6.25 billion, including debt.\\xa0</p>\\n<p>The post <a href=\"https://www.reutersagency.com/en/reutersbest/article/nordstrom-family-will-take-retailer-private-in-4-bln-deal/\">Nordstrom family will take retailer private in $4 bln deal\\xa0</a> appeared first on <a href=\"https://www.reutersagency.com/en/\">Reuters News Agency</a>.</p>'}]}], 'feed': {'title': 'Reuters News Agency', 'title_detail': {'type': 'text/plain', 'language': None, 'base': '', 'value': 'Reuters News Agency'}, 'links': [{'href': 'https://www.reutersagency.com/feed/?taxonomy=best-topics&post_type=best', 'rel': 'self', 'type': 'application/rss+xml'}, {'rel': 'alternate', 'type': 'text/html', 'href': 'https://www.reutersagency.com/en/'}], 'link': 'https://www.reutersagency.com/en/', 'subtitle': '', 'subtitle_detail': {'type': 'text/html', 'language': None, 'base': '', 'value': ''}, 'updated': 'Fri, 17 Jan 2025 14:26:47 +0000', 'updated_parsed': time.struct_time(tm_year=2025, tm_mon=1, tm_mday=17, tm_hour=14, tm_min=26, tm_sec=47, tm_wday=4, tm_yday=17, tm_isdst=0), 'language': 'en-US', 'sy_updateperiod': 'hourly', 'sy_updatefrequency': '1', 'generator_detail': {'name': 'https://wordpress.org/?v=6.6.2'}, 'generator': 'https://wordpress.org/?v=6.6.2', 'image': {'href': 'https://www.reutersagency.com/wp-content/uploads/2024/06/reuters-favicon-2-150x150.png', 'title': 'Reuters News Agency', 'title_detail': {'type': 'text/plain', 'language': None, 'base': '', 'value': 'Reuters News Agency'}, 'links': [{'rel': 'alternate', 'type': 'text/html', 'href': 'https://www.reutersagency.com/en/'}], 'link': 'https://www.reutersagency.com/en/', 'width': 32, 'height': 32}}, 'headers': {}, 'encoding': 'utf-8', 'version': 'rss20', 'namespaces': {'content': 'http://purl.org/rss/1.0/modules/content/', 'wfw': 'http://wellformedweb.org/CommentAPI/', 'dc': 'http://purl.org/dc/elements/1.1/', '': 'http://www.w3.org/2005/Atom', 'sy': 'http://purl.org/rss/1.0/modules/syndication/', 'slash': 'http://purl.org/rss/1.0/modules/slash/'}}\n"
     ]
    }
   ],
   "source": [
    "# Add a User-Agent header\n",
    "headers = {'User-Agent': 'Mozilla/5.0 (Windows NT 10.0; Win64; x64) AppleWebKit/537.36 (KHTML, like Gecko) Chrome/131.0.0.0 Safari/537.36'}\n",
    "\n",
    "# Use requests to fetch the feed with headers\n",
    "import requests\n",
    "response = requests.get(rss_url, headers=headers)\n",
    "\n",
    "# Parse the feed\n",
    "feed = feedparser.parse(response.content)\n",
    "print(feed)"
   ]
  },
  {
   "cell_type": "code",
   "execution_count": 29,
   "metadata": {},
   "outputs": [],
   "source": [
    "articles = []\n",
    "\n",
    "for entry in feed.entries:\n",
    "    article = {\n",
    "        \"title\": entry.get(\"title\", \"\"),\n",
    "        \"link\": entry.get(\"link\", \"\"),\n",
    "        \"published\": entry.get(\"published\", \"\"),\n",
    "        \"summary\": entry.get(\"summary\", \"\"),\n",
    "    }\n",
    "    articles.append(article)\n"
   ]
  },
  {
   "cell_type": "code",
   "execution_count": 30,
   "metadata": {},
   "outputs": [
    {
     "name": "stdout",
     "output_type": "stream",
     "text": [
      "                                               title  \\\n",
      "0      How bond vigilantes could check Trump’s power   \n",
      "1  Meta warns India antitrust ruling could force ...   \n",
      "2  Lilly shares on track for worst day since 2021...   \n",
      "3  Barrick to suspend operations in Mali after go...   \n",
      "4  Berlin considers full Uniper exit, targets dea...   \n",
      "\n",
      "                                                link  \\\n",
      "0  https://www.reutersagency.com/en/reutersbest/a...   \n",
      "1  https://www.reutersagency.com/en/reutersbest/a...   \n",
      "2  https://www.reutersagency.com/en/reutersbest/a...   \n",
      "3  https://www.reutersagency.com/en/reutersbest/a...   \n",
      "4  https://www.reutersagency.com/en/reutersbest/a...   \n",
      "\n",
      "                         published  \\\n",
      "0  Thu, 16 Jan 2025 14:21:08 +0000   \n",
      "1  Wed, 15 Jan 2025 14:03:16 +0000   \n",
      "2  Tue, 14 Jan 2025 14:12:37 +0000   \n",
      "3  Mon, 13 Jan 2025 14:07:08 +0000   \n",
      "4  Mon, 13 Jan 2025 13:47:47 +0000   \n",
      "\n",
      "                                             summary  \n",
      "0  <p>As Donald Trump takes office on January 20,...  \n",
      "1  <p>Reuters was first to report that Meta has w...  \n",
      "2  <p>Reuters was two-and-a-half minutes ahead of...  \n",
      "3  <p>Reuters was first to report that Malian aut...  \n",
      "4  <p>Reuters exclusively reported that the Germa...  \n"
     ]
    }
   ],
   "source": [
    "df = pd.DataFrame(articles)\n",
    "# Display the first few rows\n",
    "print(df.head())\n",
    "\n"
   ]
  },
  {
   "cell_type": "code",
   "execution_count": 31,
   "metadata": {},
   "outputs": [
    {
     "name": "stdout",
     "output_type": "stream",
     "text": [
      "Number of articles: 10\n",
      "Empty DataFrame\n",
      "Columns: [title, link, published, summary]\n",
      "Index: []\n"
     ]
    }
   ],
   "source": [
    "# Check the number of articles\n",
    "print(f\"Number of articles: {len(df)}\")\n",
    "\n",
    "# Filter articles based on keywords\n",
    "keyword = \"economy\"\n",
    "filtered_articles = df[df['summary'].str.contains(keyword, case=False, na=False)]\n",
    "print(filtered_articles)\n"
   ]
  },
  {
   "cell_type": "code",
   "execution_count": null,
   "metadata": {},
   "outputs": [],
   "source": []
  }
 ],
 "metadata": {
  "kernelspec": {
   "display_name": "Timeseries",
   "language": "python",
   "name": "python3"
  },
  "language_info": {
   "codemirror_mode": {
    "name": "ipython",
    "version": 3
   },
   "file_extension": ".py",
   "mimetype": "text/x-python",
   "name": "python",
   "nbconvert_exporter": "python",
   "pygments_lexer": "ipython3",
   "version": "3.12.5"
  }
 },
 "nbformat": 4,
 "nbformat_minor": 2
}
